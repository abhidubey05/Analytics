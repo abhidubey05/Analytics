{
 "cells": [
  {
   "cell_type": "markdown",
   "id": "013b27a3",
   "metadata": {},
   "source": [
    "- pip install sqlalchemy , terminal me install karege iss command ko dalkar"
   ]
  },
  {
   "cell_type": "code",
   "execution_count": 39,
   "id": "4c590d63",
   "metadata": {},
   "outputs": [],
   "source": [
    "from sqlalchemy import create_engine, Column, Integer, String\n",
    "from sqlalchemy.orm import declarative_base, sessionmaker"
   ]
  },
  {
   "cell_type": "markdown",
   "id": "71ad38f0",
   "metadata": {},
   "source": [
    "- create_engine:it is used to make connections from the database     \n",
    "- column:it defines columns in database\n",
    "- integer and string:datatypes values in database"
   ]
  },
  {
   "cell_type": "code",
   "execution_count": 40,
   "id": "044e356c",
   "metadata": {},
   "outputs": [],
   "source": [
    "engine = create_engine('sqlite:///user.db')"
   ]
  },
  {
   "cell_type": "code",
   "execution_count": 41,
   "id": "0d33526f",
   "metadata": {},
   "outputs": [],
   "source": [
    "# This is used to create a table in the database\n",
    "Base =declarative_base()"
   ]
  },
  {
   "cell_type": "code",
   "execution_count": 42,
   "id": "88fc3ca9",
   "metadata": {},
   "outputs": [],
   "source": [
    "# \n",
    "class User(Base):\n",
    "    __tablename__ = 'users'\n",
    "    id = Column(Integer, primary_key=True)\n",
    "    name = Column(String)\n",
    "    password = Column(String)"
   ]
  },
  {
   "cell_type": "code",
   "execution_count": 43,
   "id": "0892223d",
   "metadata": {},
   "outputs": [],
   "source": [
    "#this line creates the table in the database\n",
    "Base.metadata.create_all(engine)"
   ]
  },
  {
   "cell_type": "code",
   "execution_count": 44,
   "id": "b3903bf0",
   "metadata": {},
   "outputs": [],
   "source": [
    "# this line tells the sessionmaker to use the engine we created abobe\n",
    "Session = sessionmaker(bind=engine)\n",
    "session = Session()"
   ]
  },
  {
   "cell_type": "code",
   "execution_count": 45,
   "id": "01dfba9c",
   "metadata": {},
   "outputs": [],
   "source": [
    "# add a new user to the database\n",
    "new_user = User(name ='Bob', password= 'abrakadabra')\n",
    "session.add(new_user)\n",
    "session.commit()"
   ]
  },
  {
   "cell_type": "code",
   "execution_count": 46,
   "id": "b59d71b1",
   "metadata": {},
   "outputs": [],
   "source": [
    "# add a new user to the database\n",
    "new_user = User(name ='John', password ='123456')\n",
    "session.add(new_user)\n",
    "session.commit()"
   ]
  },
  {
   "cell_type": "code",
   "execution_count": 47,
   "id": "37351c16",
   "metadata": {},
   "outputs": [
    {
     "name": "stdout",
     "output_type": "stream",
     "text": [
      "ID:1 Name : Bob Smith Password : abrakadabra\n",
      "ID:3 Name : John Password : 123456\n",
      "ID:4 Name : Bob Password : abrakadabra\n",
      "ID:5 Name : John Password : 123456\n",
      "ID:6 Name : Bob Password : abrakadabra\n",
      "ID:7 Name : John Password : 123456\n",
      "ID:8 Name : Bob Password : abrakadabra\n",
      "ID:9 Name : John Password : 123456\n",
      "ID:10 Name : Bob Password : abrakadabra\n",
      "ID:11 Name : John Password : 123456\n"
     ]
    }
   ],
   "source": [
    "# retrieve all users\n",
    "users = session.query(User).all()\n",
    "for user in users:\n",
    "    print(f'ID:{user.id} Name : {user.name} Password : {user.password}')"
   ]
  },
  {
   "cell_type": "code",
   "execution_count": 48,
   "id": "34de8964",
   "metadata": {},
   "outputs": [],
   "source": [
    "# Update a user\n",
    "user = session.query(User).filter_by(id=1).first()   # first is used to get the first result of the query\n",
    "user.name ='Bob Smith'\n",
    "session.commit()"
   ]
  },
  {
   "cell_type": "code",
   "execution_count": 37,
   "id": "7ea61cf8",
   "metadata": {},
   "outputs": [
    {
     "name": "stdout",
     "output_type": "stream",
     "text": [
      "ID:1 Name : Bob Smith Password : abrakadabra\n",
      "ID:3 Name : John Password : 123456\n",
      "ID:4 Name : Bob Password : abrakadabra\n",
      "ID:5 Name : John Password : 123456\n",
      "ID:6 Name : Bob Password : abrakadabra\n",
      "ID:7 Name : John Password : 123456\n",
      "ID:8 Name : Bob Password : abrakadabra\n",
      "ID:9 Name : John Password : 123456\n"
     ]
    }
   ],
   "source": [
    "# retrieve all users\n",
    "users = session.query(User).all()\n",
    "for user in users:\n",
    "    print(f'ID:{user.id} Name : {user.name} Password : {user.password}')"
   ]
  },
  {
   "cell_type": "code",
   "execution_count": 52,
   "id": "f7c808b0",
   "metadata": {},
   "outputs": [
    {
     "ename": "UnmappedInstanceError",
     "evalue": "Class 'builtins.NoneType' is not mapped",
     "output_type": "error",
     "traceback": [
      "\u001b[1;31m---------------------------------------------------------------------------\u001b[0m",
      "\u001b[1;31mAttributeError\u001b[0m                            Traceback (most recent call last)",
      "File \u001b[1;32mc:\\Users\\Abhishek\\anaconda3\\Lib\\site-packages\\sqlalchemy\\orm\\session.py:3534\u001b[0m, in \u001b[0;36mSession.delete\u001b[1;34m(self, instance)\u001b[0m\n\u001b[0;32m   3533\u001b[0m \u001b[38;5;28;01mtry\u001b[39;00m:\n\u001b[1;32m-> 3534\u001b[0m     state \u001b[38;5;241m=\u001b[39m attributes\u001b[38;5;241m.\u001b[39minstance_state(instance)\n\u001b[0;32m   3535\u001b[0m \u001b[38;5;28;01mexcept\u001b[39;00m exc\u001b[38;5;241m.\u001b[39mNO_STATE \u001b[38;5;28;01mas\u001b[39;00m err:\n",
      "\u001b[1;31mAttributeError\u001b[0m: 'NoneType' object has no attribute '_sa_instance_state'",
      "\nThe above exception was the direct cause of the following exception:\n",
      "\u001b[1;31mUnmappedInstanceError\u001b[0m                     Traceback (most recent call last)",
      "Cell \u001b[1;32mIn[52], line 3\u001b[0m\n\u001b[0;32m      1\u001b[0m \u001b[38;5;66;03m# delete a user\u001b[39;00m\n\u001b[0;32m      2\u001b[0m user \u001b[38;5;241m=\u001b[39m session\u001b[38;5;241m.\u001b[39mquery(User)\u001b[38;5;241m.\u001b[39mfilter_by(\u001b[38;5;28mid\u001b[39m\u001b[38;5;241m=\u001b[39m\u001b[38;5;241m2\u001b[39m)\u001b[38;5;241m.\u001b[39mfirst()\n\u001b[1;32m----> 3\u001b[0m session\u001b[38;5;241m.\u001b[39mdelete(user)\n\u001b[0;32m      4\u001b[0m session\u001b[38;5;241m.\u001b[39mcommit()\n",
      "File \u001b[1;32mc:\\Users\\Abhishek\\anaconda3\\Lib\\site-packages\\sqlalchemy\\orm\\session.py:3536\u001b[0m, in \u001b[0;36mSession.delete\u001b[1;34m(self, instance)\u001b[0m\n\u001b[0;32m   3534\u001b[0m     state \u001b[38;5;241m=\u001b[39m attributes\u001b[38;5;241m.\u001b[39minstance_state(instance)\n\u001b[0;32m   3535\u001b[0m \u001b[38;5;28;01mexcept\u001b[39;00m exc\u001b[38;5;241m.\u001b[39mNO_STATE \u001b[38;5;28;01mas\u001b[39;00m err:\n\u001b[1;32m-> 3536\u001b[0m     \u001b[38;5;28;01mraise\u001b[39;00m exc\u001b[38;5;241m.\u001b[39mUnmappedInstanceError(instance) \u001b[38;5;28;01mfrom\u001b[39;00m \u001b[38;5;21;01merr\u001b[39;00m\n\u001b[0;32m   3538\u001b[0m \u001b[38;5;28mself\u001b[39m\u001b[38;5;241m.\u001b[39m_delete_impl(state, instance, head\u001b[38;5;241m=\u001b[39m\u001b[38;5;28;01mTrue\u001b[39;00m)\n",
      "\u001b[1;31mUnmappedInstanceError\u001b[0m: Class 'builtins.NoneType' is not mapped"
     ]
    }
   ],
   "source": [
    "# delete a user\n",
    "user = session.query(User).filter_by(id=2).first()\n",
    "session.delete(user)\n",
    "session.commit()"
   ]
  },
  {
   "cell_type": "code",
   "execution_count": null,
   "id": "7a8f0411",
   "metadata": {},
   "outputs": [
    {
     "name": "stdout",
     "output_type": "stream",
     "text": [
      "ID:1 Name : Bob Smith Password : abrakadabra\n",
      "ID:3 Name : John Password : 123456\n"
     ]
    }
   ],
   "source": [
    "# retrieve all users\n",
    "users = session.query(User).all()\n",
    "for user in users:\n",
    "    print(f'ID:{user.id} Name : {user.name} Password : {user.password}')"
   ]
  }
 ],
 "metadata": {
  "kernelspec": {
   "display_name": "base",
   "language": "python",
   "name": "python3"
  },
  "language_info": {
   "codemirror_mode": {
    "name": "ipython",
    "version": 3
   },
   "file_extension": ".py",
   "mimetype": "text/x-python",
   "name": "python",
   "nbconvert_exporter": "python",
   "pygments_lexer": "ipython3",
   "version": "3.12.7"
  }
 },
 "nbformat": 4,
 "nbformat_minor": 5
}
