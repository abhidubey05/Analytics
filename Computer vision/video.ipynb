{
 "cells": [
  {
   "cell_type": "code",
   "execution_count": 5,
   "id": "8a8180ce",
   "metadata": {},
   "outputs": [],
   "source": [
    "import cv2"
   ]
  },
  {
   "cell_type": "code",
   "execution_count": 11,
   "id": "7887815f",
   "metadata": {},
   "outputs": [],
   "source": [
    "\n",
    "#open a video capture object to read from the default camera(0)\n",
    "cap = cv2.VideoCapture(0)\n",
    "\n",
    "while True:\n",
    "    ret, frame = cap.read() # read a frame from the camera, ret is a boolean indicating success\n",
    "    if not ret:\n",
    "        break # if no frame is captured, exit the loop\n",
    "    cv2.imshow('Camera Feed', frame) # display the frame in a window \n",
    "\n",
    "    if cv2.waitKey(1) == ord('q'): # wait for 'q' key to be pressed\n",
    "        break\n",
    "cap.release() # release the camera\n",
    "cv2.destroyAllWindows() # close all opencv windows"
   ]
  }
 ],
 "metadata": {
  "kernelspec": {
   "display_name": "Python 3",
   "language": "python",
   "name": "python3"
  },
  "language_info": {
   "codemirror_mode": {
    "name": "ipython",
    "version": 3
   },
   "file_extension": ".py",
   "mimetype": "text/x-python",
   "name": "python",
   "nbconvert_exporter": "python",
   "pygments_lexer": "ipython3",
   "version": "3.13.3"
  }
 },
 "nbformat": 4,
 "nbformat_minor": 5
}
