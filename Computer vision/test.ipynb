{
 "cells": [
  {
   "cell_type": "code",
   "execution_count": 1,
   "id": "23bfeebd",
   "metadata": {},
   "outputs": [],
   "source": [
    "import cv2"
   ]
  },
  {
   "cell_type": "code",
   "execution_count": 2,
   "id": "a45ac242",
   "metadata": {},
   "outputs": [],
   "source": [
    "image = cv2.imread(\"background.jpg\")\n",
    "if image is not None:\n",
    "    cv2.imshow(\"Background\", image)\n",
    "    cv2.waitKey(0)       #waitkey is used to wait for a key to press to close the window , o means wait indefinitely\n",
    "    cv2.destroyAllWindows()\n",
    "else:\n",
    "    print('Image not found')"
   ]
  },
  {
   "cell_type": "code",
   "execution_count": 3,
   "id": "42961844",
   "metadata": {},
   "outputs": [],
   "source": [
    "gray_image = cv2.cvtColor(image, cv2.COLOR_BGR2GRAY)\n",
    "cv2.imshow(\"Gray Image\", gray_image)\n",
    "cv2.waitKey(0)\n",
    "cv2.destroyAllWindows()"
   ]
  },
  {
   "cell_type": "code",
   "execution_count": 4,
   "id": "a61213c3",
   "metadata": {},
   "outputs": [],
   "source": [
    "blurred_image = cv2.GaussianBlur(image, (15,15),0) # gaussian blur is used to reduce noise and detail in an image, (15,15) is the kernel size, 0 is the standard deviation in X and Y direction\n",
    "cv2.imshow(\"Blurred Image\", blurred_image)\n",
    "cv2.waitKey(0)\n",
    "cv2.destroyAllWindows()"
   ]
  },
  {
   "cell_type": "code",
   "execution_count": 5,
   "id": "2006b6af",
   "metadata": {},
   "outputs": [],
   "source": [
    "edges=cv2.Canny(gray_image,100,200) # canny edge detection is used to detect edges in an image\n",
    "cv2.imshow(\"Edges\", edges)\n",
    "cv2.waitKey(0)\n",
    "cv2.destroyAllWindows()"
   ]
  },
  {
   "cell_type": "markdown",
   "id": "3d5d18d9",
   "metadata": {},
   "source": [
    ".resize, crop"
   ]
  },
  {
   "cell_type": "code",
   "execution_count": 6,
   "id": "7348c2b6",
   "metadata": {},
   "outputs": [],
   "source": [
    "resized_image = cv2.resize(image, (300, 300)) # resize the image to 300x300 pixels\n",
    "cropped_image = image[50:200, 200:500] # crop the image from (50,50) to (200, 500) these are the coordinates of the top left and bottom right corners of the rectnagle\n",
    "cv2.imshow(\"Resized Image\", resized_image)\n",
    "cv2.imshow(\"cropped image\", cropped_image)\n",
    "cv2.waitKey(0)\n",
    "cv2.destroyAllWindows()"
   ]
  },
  {
   "cell_type": "code",
   "execution_count": 7,
   "id": "4f1e9b69",
   "metadata": {},
   "outputs": [],
   "source": [
    "drawing = image.copy()\n",
    "cv2.rectangle(drawing, (50,50), (200,200), (0, 255, 0), 2) # draw a rectangle on the image,(50,50) is the top left corner and (200,200) is the bottom right corner,(0,255,0) is the color of the rectangle in BGR format and 2 is the thickness of the rectangle\n",
    "cv2.imshow(\"Rectangle\", drawing)\n",
    "cv2.waitKey(0)\n",
    "cv2.destroyAllWindows()"
   ]
  }
 ],
 "metadata": {
  "kernelspec": {
   "display_name": "Python 3",
   "language": "python",
   "name": "python3"
  },
  "language_info": {
   "codemirror_mode": {
    "name": "ipython",
    "version": 3
   },
   "file_extension": ".py",
   "mimetype": "text/x-python",
   "name": "python",
   "nbconvert_exporter": "python",
   "pygments_lexer": "ipython3",
   "version": "3.13.3"
  }
 },
 "nbformat": 4,
 "nbformat_minor": 5
}
